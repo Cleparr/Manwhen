{
 "cells": [
  {
   "cell_type": "code",
   "execution_count": 1,
   "metadata": {},
   "outputs": [
    {
     "name": "stderr",
     "output_type": "stream",
     "text": [
      "c:\\Users\\cleme\\Documents\\GitHub\\Manwhen\\venv\\lib\\site-packages\\flask_sqlalchemy\\__init__.py:872: FSADeprecationWarning: SQLALCHEMY_TRACK_MODIFICATIONS adds significant overhead and will be disabled by default in the future.  Set it to True or False to suppress this warning.\n",
      "  warnings.warn(FSADeprecationWarning(\n"
     ]
    }
   ],
   "source": [
    "from app import Manga, MangaChapter, db\n",
    "\n",
    "db.create_all()  \n",
    "\n",
    "# Ajouter les manga à la table de base\n",
    "one_piece = Manga(name = \"One Piece\",url = \"https://www.scan-vf.net/one_piece/\", cover=\"https://www.glenat.com/sites/default/files/images/livres/couv/9782344049020-001-T.jpeg\")\n",
    "boruto = Manga(name = \"Boruto\", url= \"https://www.scan-vf.net/boruto\", cover=\"https://images-na.ssl-images-amazon.com/images/I/81cDaskL55L.jpg\")\n",
    "fairytail100 = Manga(name = \"Fairy Tail 100 Years Quest\", url= \"https://www.scan-vf.net/fairy-tail-100-years-quest\", cover=\"https://pbs.twimg.com/media/FMbhQ8DXoAAFVgI?format=jpg&name=large\")\n",
    "onepunchman = Manga(name = \"One Punch Man\", url= \"https://www.scan-vf.net/one-punch-man\", cover=\"https://static.fnac-static.com/multimedia/Images/FR/NR/16/ec/bf/12577814/1507-1/tsp20210803073801/One-Punch-Man.jpg\")\n",
    "hxh = Manga(name = \"Hunter X Hunter\", url= \"https://www.scan-vf.net/hunter-x-hunter\", cover=\"https://images-na.ssl-images-amazon.com/images/I/81gU6RgiRvL.jpg\")\n",
    "dragon_ball_super = Manga(name = \"Dragon Ball Super\", url= \"https://www.scan-vf.net/dragon-Ball-Super\", cover=\"https://www.db-z.com/wp-content/uploads/2021/11/cover-tome-17-dragon-ball-super-hd.jpg\")\n",
    "\n",
    "#J'ajoute juste le dernier élément :) Ne pas ajouter tout le reste en mode liste\n",
    "db.session.add_all([one_piece,boruto,fairytail100,onepunchman,hxh,dragon_ball_super]) \n",
    "\n",
    "db.session.commit()"
   ]
  },
  {
   "cell_type": "code",
   "execution_count": 22,
   "metadata": {},
   "outputs": [],
   "source": [
    "#cover_add = Manga.query.all()[0]\n",
    "#cover_add.cover = 'https://www.scan-vf.net/uploads/manga/dragon-Ball-Super/cover/cover_250x350.jpg'\n",
    "#db.session.commit()"
   ]
  },
  {
   "cell_type": "code",
   "execution_count": 38,
   "metadata": {},
   "outputs": [
    {
     "name": "stdout",
     "output_type": "stream",
     "text": [
      "False\n"
     ]
    }
   ],
   "source": [
    "from app import Manga, MangaChapter, db\n",
    "\n",
    "manga_test = Manga.query.get(1)\n",
    "#manga_test.id\n",
    "\n",
    "manga_test_2 = db.session.query(Manga.id).filter_by(name='Hunter  Hunter').scalar() is not None\n",
    "print(manga_test_2)"
   ]
  },
  {
   "cell_type": "code",
   "execution_count": 2,
   "metadata": {},
   "outputs": [],
   "source": [
    "from app import Manga, MangaChapter, db\n",
    "import requests\n",
    "from bs4 import BeautifulSoup\n",
    "\n",
    "for manga in Manga.query.all():\n",
    "\n",
    "  # J'itère sur tous les manga\n",
    "  html_text = requests.get(manga.url).text\n",
    "  soup = BeautifulSoup(html_text, 'html.parser')\n",
    "\n",
    "  #Je vais chercher les informations sur la page du manga en question\n",
    "  online_chapters = soup.find_all('h5', {'class' : 'chapter-title-rtl'} )\n",
    "\n",
    "  #Je cherche toutes les info (name, url, title)\n",
    "  for num_chap in range(len(online_chapters)):\n",
    "\n",
    "    last_chap_url = online_chapters[num_chap].find('a')['href']\n",
    "    last_chap_title = online_chapters[num_chap].find('em').getText()\n",
    "\n",
    "    last_chap_number_process = online_chapters[num_chap].find('a').getText()\n",
    "    last_chap_number_process = last_chap_number_process.split()\n",
    "    last_chap_number = last_chap_number_process[len(last_chap_number_process)-1]\n",
    "\n",
    "    state = MangaChapter.query.filter_by(chapter_number=last_chap_number, manga_id = manga.id).first()\n",
    "\n",
    "    if state is None :\n",
    "        var = MangaChapter(chapter_number = last_chap_number,\n",
    "                   chapter_url = last_chap_url, \n",
    "                   chapter_name = last_chap_title, \n",
    "                   manga = manga)\n",
    "        db.session.add(var)\n",
    "\n",
    "db.session.commit()\n",
    "    \n"
   ]
  },
  {
   "cell_type": "code",
   "execution_count": null,
   "metadata": {},
   "outputs": [],
   "source": []
  }
 ],
 "metadata": {
  "interpreter": {
   "hash": "cb453471b4afeaad891a42cb368dae45484435955adc67e519da5976fa46990a"
  },
  "kernelspec": {
   "display_name": "Python 3.10.2 ('venv': venv)",
   "language": "python",
   "name": "python3"
  },
  "language_info": {
   "codemirror_mode": {
    "name": "ipython",
    "version": 3
   },
   "file_extension": ".py",
   "mimetype": "text/x-python",
   "name": "python",
   "nbconvert_exporter": "python",
   "pygments_lexer": "ipython3",
   "version": "3.10.2"
  },
  "orig_nbformat": 4
 },
 "nbformat": 4,
 "nbformat_minor": 2
}

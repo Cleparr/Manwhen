{
 "cells": [
  {
   "cell_type": "code",
   "execution_count": 1,
   "metadata": {},
   "outputs": [
    {
     "name": "stderr",
     "output_type": "stream",
     "text": [
      "c:\\Users\\cleme\\Documents\\GitHub\\Manwhen\\venv\\lib\\site-packages\\flask_sqlalchemy\\__init__.py:872: FSADeprecationWarning: SQLALCHEMY_TRACK_MODIFICATIONS adds significant overhead and will be disabled by default in the future.  Set it to True or False to suppress this warning.\n",
      "  warnings.warn(FSADeprecationWarning(\n"
     ]
    }
   ],
   "source": [
    "from app import Manga, MangaChapter, User, db\n",
    "\n",
    "db.create_all()  \n",
    "\n",
    "# Ajouter les manga à la table de base\n",
    "one_piece = Manga(name = \"One Piece\",url = \"https://www.scan-vf.net/one_piece/\", cover=\"https://www.glenat.com/sites/default/files/images/livres/couv/9782344049020-001-T.jpeg\",)\n",
    "boruto = Manga(name = \"Boruto\", url= \"https://www.scan-vf.net/boruto\", cover=\"https://images-na.ssl-images-amazon.com/images/I/81cDaskL55L.jpg\")\n",
    "fairytail100 = Manga(name = \"Fairy Tail 100 Years Quest\", url= \"https://www.scan-vf.net/fairy-tail-100-years-quest\", cover=\"https://pbs.twimg.com/media/FMbhQ8DXoAAFVgI?format=jpg&name=large\")\n",
    "onepunchman = Manga(name = \"One Punch Man\", url= \"https://www.scan-vf.net/one-punch-man\", cover=\"https://static.fnac-static.com/multimedia/Images/FR/NR/16/ec/bf/12577814/1507-1/tsp20210803073801/One-Punch-Man.jpg\")\n",
    "hxh = Manga(name = \"Hunter X Hunter\", url= \"https://www.scan-vf.net/hunter-x-hunter\", cover=\"https://images-na.ssl-images-amazon.com/images/I/81gU6RgiRvL.jpg\")\n",
    "dragon_ball_super = Manga(name = \"Dragon Ball Super\", url= \"https://www.scan-vf.net/dragon-Ball-Super\", cover=\"https://www.db-z.com/wp-content/uploads/2021/11/cover-tome-17-dragon-ball-super-hd.jpg\")\n",
    "the_great_mage = Manga(name = \"The Great Mage Returns After 4000 Years\", url= \"https://manga1st.online/manga/the-great-mage-returns-after-4000-years/\", cover=\"https://static.boxnovel.me/images/the-great-mage-returns-after-4000-years.png\")\n",
    "the_legend = Manga(name = \"The Legend of the Northern Blade\", url= \"https://manga1st.online/manga/legend-of-the-northern-blade/\", cover=\"https://cdn.myanimelist.net/images/manga/3/248937l.jpg\")\n",
    "nano = Manga(name = \"Nano Machine\", url= \"https://manga1st.online/manga/nano-machine/\", cover=\"https://i.pinimg.com/originals/e4/45/54/e44554743cf4d76741a53eb62526e655.png\")\n",
    "blue_lock = Manga(name = \"Blue Lock\", url= \"https://manga1st.online/manga/blue-lock/\", cover=\"https://images-na.ssl-images-amazon.com/images/I/51BkrRCUzeL._SX328_BO1,204,203,200_.jpg\")\n",
    "the_beginning = Manga(name = \"The Beginning After The End\", url= \"https://manga1st.online/manga/the-beginning-after-the-end/\", cover=\"https://pbs.twimg.com/media/FIBd5T0VUAEABDR.jpg\")\n",
    "\n",
    "\n",
    "#J'ajoute juste le dernier élément :) Ne pas ajouter tout le reste en mode liste\n",
    "db.session.add_all([one_piece,boruto,fairytail100,onepunchman,hxh,dragon_ball_super\n",
    "                    ,the_great_mage,the_legend,nano,blue_lock,the_beginning]) \n",
    "\n",
    "db.session.commit()"
   ]
  },
  {
   "cell_type": "code",
   "execution_count": 3,
   "metadata": {},
   "outputs": [],
   "source": [
    "def scan_vf_scrap():\n",
    "\n",
    "    html_text = requests.get(manga.url).text\n",
    "    soup = BeautifulSoup(html_text, 'html.parser')\n",
    "\n",
    "    #Je vais chercher les informations sur la page du manga en question\n",
    "    online_chapters = soup.find_all('h5', {'class' : 'chapter-title-rtl'} )\n",
    "\n",
    "    #Je cherche toutes les info (name, url, title)\n",
    "    for num_chap in range(len(online_chapters)):\n",
    "\n",
    "        last_chap_url = online_chapters[num_chap].find('a')['href']\n",
    "        last_chap_title = online_chapters[num_chap].find('em').getText()\n",
    "\n",
    "        last_chap_number_process = online_chapters[num_chap].find('a').getText()\n",
    "        last_chap_number_process = last_chap_number_process.split()\n",
    "        last_chap_number = last_chap_number_process[len(last_chap_number_process)-1]\n",
    "\n",
    "        state = MangaChapter.query.filter_by(chapter_number=last_chap_number, manga_id = manga.id).first()\n",
    "\n",
    "        if state is None :\n",
    "            var = MangaChapter(chapter_number = last_chap_number,\n",
    "                    chapter_url = last_chap_url, \n",
    "                    chapter_name = last_chap_title, \n",
    "                    manga = manga)\n",
    "            db.session.add(var)\n",
    "            \n",
    "\n",
    "    db.session.commit()\n",
    "\n",
    "def manga1st_scrap():\n",
    "\n",
    "    # J'itère sur tous les manga\n",
    "    html_text = requests.get(manga.url).text\n",
    "    soup = BeautifulSoup(html_text, 'html.parser')\n",
    "\n",
    "    #Je vais chercher les informations sur la page du manga en question\n",
    "    online_chapters = soup.find_all('li', {'class' : 'wp-manga-chapter'} )\n",
    "    \n",
    "    #Je cherche toutes les info (name, url, title)\n",
    "    for num_chap in range(len(online_chapters)):\n",
    "        last_chap_url = online_chapters[num_chap].find('a')['href']\n",
    "        #Il n'y a pas le titre donc je prends \"Chapitre x\"\n",
    "        last_chap_title = online_chapters[num_chap].find('a').getText()\n",
    "\n",
    "        last_chap_number_process = online_chapters[num_chap].find('a').getText()\n",
    "        last_chap_number_process = last_chap_number_process.split()\n",
    "        last_chap_number = last_chap_number_process[len(last_chap_number_process)-1]\n",
    "\n",
    "        state = MangaChapter.query.filter_by(chapter_number=last_chap_number, manga_id = manga.id).first()\n",
    "        \n",
    "        if state is None :\n",
    "            var = MangaChapter(chapter_number = last_chap_number,\n",
    "                    chapter_url = last_chap_url, \n",
    "                    chapter_name = last_chap_title, \n",
    "                    manga = manga)\n",
    "            db.session.add(var)\n",
    "            \n",
    "\n",
    "    db.session.commit()\n",
    "\n",
    "\n",
    "functions_scrap = {\n",
    "    \"scan-vf\": scan_vf_scrap,\n",
    "    \"manga1st\": manga1st_scrap\n",
    "}"
   ]
  },
  {
   "cell_type": "code",
   "execution_count": 4,
   "metadata": {},
   "outputs": [
    {
     "name": "stderr",
     "output_type": "stream",
     "text": [
      "C:\\Users\\cleme\\AppData\\Local\\Temp\\ipykernel_1340\\1645181432.py:54: SAWarning: Dialect sqlite+pysqlite does *not* support Decimal objects natively, and SQLAlchemy must convert from floating point - rounding errors and other issues may occur. Please consider storing Decimal numbers as strings or integers on this platform for lossless storage.\n",
      "  state = MangaChapter.query.filter_by(chapter_number=last_chap_number, manga_id = manga.id).first()\n"
     ]
    }
   ],
   "source": [
    "from app import Manga, MangaChapter, db\n",
    "import requests\n",
    "from bs4 import BeautifulSoup\n",
    "import tldextract\n",
    "\n",
    "for manga in Manga.query.all():\n",
    "    domain_url = tldextract.extract(manga.url)\n",
    "    functions_scrap[domain_url.domain]()"
   ]
  },
  {
   "cell_type": "code",
   "execution_count": null,
   "metadata": {},
   "outputs": [],
   "source": [
    "from app import Manga, MangaChapter, db\n",
    "import requests\n",
    "from bs4 import BeautifulSoup\n",
    "\n",
    "for manga in Manga.query.all():\n",
    "\n",
    "  # J'itère sur tous les manga\n",
    "  html_text = requests.get(manga.url).text\n",
    "  soup = BeautifulSoup(html_text, 'html.parser')\n",
    "\n",
    "  #Je vais chercher les informations sur la page du manga en question\n",
    "  online_chapters = soup.find_all('h5', {'class' : 'chapter-title-rtl'} )\n",
    "\n",
    "  #Je cherche toutes les info (name, url, title)\n",
    "  for num_chap in range(len(online_chapters)):\n",
    "\n",
    "    last_chap_url = online_chapters[num_chap].find('a')['href']\n",
    "    last_chap_title = online_chapters[num_chap].find('em').getText()\n",
    "\n",
    "    last_chap_number_process = online_chapters[num_chap].find('a').getText()\n",
    "    last_chap_number_process = last_chap_number_process.split()\n",
    "    last_chap_number = last_chap_number_process[len(last_chap_number_process)-1]\n",
    "\n",
    "    state = MangaChapter.query.filter_by(chapter_number=last_chap_number, manga_id = manga.id).first()\n",
    "\n",
    "    if state is None :\n",
    "        var = MangaChapter(chapter_number = last_chap_number,\n",
    "                   chapter_url = last_chap_url, \n",
    "                   chapter_name = last_chap_title, \n",
    "                   manga = manga)\n",
    "        db.session.add(var)\n",
    "        \n",
    "\n",
    "db.session.commit()"
   ]
  },
  {
   "cell_type": "code",
   "execution_count": 38,
   "metadata": {},
   "outputs": [],
   "source": [
    "from app import db\n",
    "\n",
    "db.create_all()  "
   ]
  },
  {
   "cell_type": "code",
   "execution_count": null,
   "metadata": {},
   "outputs": [],
   "source": [
    "#cover_add = Manga.query.all()[0]\n",
    "#cover_add.cover = 'https://www.scan-vf.net/uploads/manga/dragon-Ball-Super/cover/cover_250x350.jpg'\n",
    "#db.session.commit()"
   ]
  },
  {
   "cell_type": "code",
   "execution_count": 5,
   "metadata": {},
   "outputs": [
    {
     "data": {
      "text/plain": [
       "False"
      ]
     },
     "execution_count": 5,
     "metadata": {},
     "output_type": "execute_result"
    }
   ],
   "source": [
    "from app import Manga, MangaChapter, db\n",
    "db.session.query(Manga.id).filter_by(\n",
    "        name='Two Piece').scalar() is not None"
   ]
  },
  {
   "cell_type": "code",
   "execution_count": null,
   "metadata": {},
   "outputs": [
    {
     "name": "stdout",
     "output_type": "stream",
     "text": [
      "False\n"
     ]
    }
   ],
   "source": [
    "from app import Manga, MangaChapter, db\n",
    "\n",
    "manga_test = Manga.query.get(1)\n",
    "#manga_test.id\n",
    "\n",
    "manga_test_2 = db.session.query(Manga.id).filter_by(name='Hunter  Hunter').scalar() is not None\n",
    "print(manga_test_2)"
   ]
  },
  {
   "cell_type": "code",
   "execution_count": 2,
   "metadata": {},
   "outputs": [
    {
     "name": "stderr",
     "output_type": "stream",
     "text": [
      "C:\\Users\\cleme\\AppData\\Local\\Temp\\ipykernel_4552\\3145937350.py:24: SAWarning: Dialect sqlite+pysqlite does *not* support Decimal objects natively, and SQLAlchemy must convert from floating point - rounding errors and other issues may occur. Please consider storing Decimal numbers as strings or integers on this platform for lossless storage.\n",
      "  state = MangaChapter.query.filter_by(chapter_number=last_chap_number, manga_id = manga.id).first()\n"
     ]
    }
   ],
   "source": [
    "from app import Manga, MangaChapter, db\n",
    "import requests\n",
    "from bs4 import BeautifulSoup\n",
    "\n",
    "for manga in Manga.query.all():\n",
    "\n",
    "  # J'itère sur tous les manga\n",
    "  html_text = requests.get(manga.url).text\n",
    "  soup = BeautifulSoup(html_text, 'html.parser')\n",
    "\n",
    "  #Je vais chercher les informations sur la page du manga en question\n",
    "  online_chapters = soup.find_all('h5', {'class' : 'chapter-title-rtl'} )\n",
    "\n",
    "  #Je cherche toutes les info (name, url, title)\n",
    "  for num_chap in range(len(online_chapters)):\n",
    "\n",
    "    last_chap_url = online_chapters[num_chap].find('a')['href']\n",
    "    last_chap_title = online_chapters[num_chap].find('em').getText()\n",
    "\n",
    "    last_chap_number_process = online_chapters[num_chap].find('a').getText()\n",
    "    last_chap_number_process = last_chap_number_process.split()\n",
    "    last_chap_number = last_chap_number_process[len(last_chap_number_process)-1]\n",
    "\n",
    "    state = MangaChapter.query.filter_by(chapter_number=last_chap_number, manga_id = manga.id).first()\n",
    "\n",
    "    if state is None :\n",
    "        var = MangaChapter(chapter_number = last_chap_number,\n",
    "                   chapter_url = last_chap_url, \n",
    "                   chapter_name = last_chap_title, \n",
    "                   manga = manga)\n",
    "        db.session.add(var)\n",
    "        \n",
    "\n",
    "db.session.commit()\n",
    "    \n"
   ]
  },
  {
   "cell_type": "code",
   "execution_count": 9,
   "metadata": {},
   "outputs": [
    {
     "name": "stdout",
     "output_type": "stream",
     "text": [
      "bbbb\n"
     ]
    }
   ],
   "source": [
    "import tldextract\n",
    "url_test = 'https://manga1st.online/manga/the-beginning-after-the-end/'\n",
    "domain_url = tldextract.extract(url_test)\n",
    "domain_url.domain\n",
    "\n",
    "def aa():\n",
    "    print('aaaa')\n",
    "\n",
    "def bb():\n",
    "    print('bbbb')\n",
    "\n",
    "functions_scrap = {\n",
    "    \"scan-vf\": aa,\n",
    "    \"manga1st\": bb\n",
    "}\n",
    "\n",
    "\n",
    "if domain_url.domain in functions_scrap:\n",
    "    functions_scrap[domain_url.domain]()\n"
   ]
  },
  {
   "cell_type": "code",
   "execution_count": 36,
   "metadata": {},
   "outputs": [],
   "source": [
    "#Pour supprimer une ligne Manga (ici la 7e)\n",
    "Manga.query.filter(Manga.id == 10).delete()\n",
    "db.session.commit()"
   ]
  },
  {
   "cell_type": "code",
   "execution_count": 34,
   "metadata": {},
   "outputs": [
    {
     "data": {
      "text/plain": [
       "123"
      ]
     },
     "execution_count": 34,
     "metadata": {},
     "output_type": "execute_result"
    }
   ],
   "source": [
    "import requests\n",
    "from bs4 import BeautifulSoup\n",
    "\n",
    "manga_url = 'https://manga1st.online/manga/the-great-mage-returns-after-4000-years/'\n",
    "html_text = requests.get(manga_url).text\n",
    "soup = BeautifulSoup(html_text, 'html.parser')\n",
    "online_chapters = soup.find_all('li', {'class' : 'wp-manga-chapter'} )\n",
    "len(online_chapters)"
   ]
  },
  {
   "cell_type": "code",
   "execution_count": 20,
   "metadata": {},
   "outputs": [
    {
     "data": {
      "text/plain": [
       "manga('The Great Mage Returns After 4000 Years','https://manga1st.online/manga/the-great-mage-returns-after-4000-years/','https://static.boxnovel.me/images/the-great-mage-returns-after-4000-years.png')"
      ]
     },
     "execution_count": 20,
     "metadata": {},
     "output_type": "execute_result"
    }
   ],
   "source": [
    "Manga.query.order_by(Manga.id.desc()).first()"
   ]
  },
  {
   "cell_type": "code",
   "execution_count": 16,
   "metadata": {},
   "outputs": [],
   "source": [
    "db.session.rollback()"
   ]
  },
  {
   "cell_type": "code",
   "execution_count": null,
   "metadata": {},
   "outputs": [],
   "source": [
    "str = 'One Piece | 1045'"
   ]
  },
  {
   "cell_type": "code",
   "execution_count": null,
   "metadata": {},
   "outputs": [
    {
     "data": {
      "text/plain": [
       "list"
      ]
     },
     "execution_count": 45,
     "metadata": {},
     "output_type": "execute_result"
    }
   ],
   "source": [
    "var = MangaChapter.query.filter(MangaChapter.chapter_number<=400,MangaChapter.manga_id=='1').all()\n",
    "type(var)"
   ]
  },
  {
   "cell_type": "code",
   "execution_count": 87,
   "metadata": {},
   "outputs": [],
   "source": [
    "manga_num_clicked = '101'\n",
    "manga_id_current = '1'\n",
    "\n",
    "state_manga_num_clicked = (MangaChapter.query.filter(MangaChapter.chapter_number==manga_num_clicked,MangaChapter.manga_id=='1').first()).chapter_viewed\n",
    "\n",
    "#Si le chapitre est déjà lu, je le marque en non lu\n",
    "if state_manga_num_clicked == True:\n",
    "    state_manga_num_clicked = False\n",
    "        \n",
    "    db.session.commit()\n",
    "\n",
    "#Si le chapitre est pas encore lu\n",
    "else:\n",
    "    MangaChapter.query.filter(MangaChapter.chapter_number<=manga_num_clicked,MangaChapter.manga_id==manga_id_current,MangaChapter.chapter_viewed==False).update({MangaChapter.chapter_viewed: True},synchronize_session= False)\n",
    "\n",
    "\n",
    "    #Je regarde déjà si parmi les précédents, il existe des chapitres non lu\n",
    "    number_chap_not_viewed = MangaChapter.query.filter(MangaChapter.chapter_number<=manga_num_clicked,MangaChapter.manga_id==manga_id_current,MangaChapter.chapter_viewed==False).all()\n",
    "\n",
    "    if len(number_chap_not_viewed) == 0:\n",
    "        #Changer l'image pour dire que le chap est désormais lu\n",
    "        #Modifier la valeur en base\n",
    "        MangaChapter.query.filter(MangaChapter.chapter_number==manga_num_clicked,MangaChapter.manga_id==manga_id_current,MangaChapter.chapter_viewed==False).update({MangaChapter.chapter_viewed: True},synchronize_session= False)\n",
    "    \n",
    "    else:\n",
    "        #Demander si je mets à jour les précédents        \n",
    "        ## if oui à tout cocher\n",
    "        MangaChapter.query.filter(MangaChapter.chapter_number<=manga_num_clicked,MangaChapter.manga_id==manga_id_current,MangaChapter.chapter_viewed==False).update({MangaChapter.chapter_viewed: True},synchronize_session= False)\n",
    "        ## si non, je modifie juste celui coché \n",
    "        MangaChapter.query.filter(MangaChapter.chapter_number==manga_num_clicked,MangaChapter.manga_id==manga_id_current,MangaChapter.chapter_viewed==False).update({MangaChapter.chapter_viewed: True},synchronize_session= False)\n",
    "\n"
   ]
  },
  {
   "cell_type": "code",
   "execution_count": 84,
   "metadata": {},
   "outputs": [
    {
     "data": {
      "text/plain": [
       "[]"
      ]
     },
     "execution_count": 84,
     "metadata": {},
     "output_type": "execute_result"
    }
   ],
   "source": [
    "var2 = MangaChapter.query.filter(MangaChapter.chapter_number<=manga_num_clicked,MangaChapter.manga_id=='1',MangaChapter.chapter_viewed==False).all()\n",
    "var2"
   ]
  },
  {
   "cell_type": "code",
   "execution_count": 85,
   "metadata": {},
   "outputs": [
    {
     "data": {
      "text/plain": [
       "0"
      ]
     },
     "execution_count": 85,
     "metadata": {},
     "output_type": "execute_result"
    }
   ],
   "source": [
    "MangaChapter.query.filter(MangaChapter.chapter_number<=manga_num_clicked,MangaChapter.manga_id=='1',MangaChapter.chapter_viewed==False).update({MangaChapter.chapter_viewed: True},synchronize_session= False)"
   ]
  },
  {
   "cell_type": "code",
   "execution_count": 9,
   "metadata": {},
   "outputs": [],
   "source": [
    "db.session.rollback()"
   ]
  },
  {
   "cell_type": "code",
   "execution_count": null,
   "metadata": {},
   "outputs": [],
   "source": [
    "manga_num_clicked = '101'\n",
    "manga_id_current = '1'\n",
    "\n",
    "state_manga_num_clicked = (MangaChapter.query.filter(MangaChapter.chapter_number==manga_num_clicked,MangaChapter.manga_id=='1').first()).chapter_viewed\n",
    "\n",
    "#Si le chapitre est déjà lu, je le marque en non lu\n",
    "if state_manga_num_clicked == True:\n",
    "    state_manga_num_clicked = False\n",
    "        \n",
    "    db.session.commit()\n",
    "\n",
    "#Si le chapitre est pas encore lu\n",
    "else:\n",
    "    MangaChapter.query.filter(MangaChapter.chapter_number<=manga_num_clicked,MangaChapter.manga_id==manga_id_current,MangaChapter.chapter_viewed==False).update({MangaChapter.chapter_viewed: True},synchronize_session= False)\n"
   ]
  },
  {
   "cell_type": "code",
   "execution_count": 97,
   "metadata": {},
   "outputs": [
    {
     "data": {
      "text/plain": [
       "False"
      ]
     },
     "execution_count": 97,
     "metadata": {},
     "output_type": "execute_result"
    }
   ],
   "source": [
    "mgc = MangaChapter.query.all()\n",
    "mgc[2].chapter_viewed"
   ]
  },
  {
   "cell_type": "code",
   "execution_count": 8,
   "metadata": {},
   "outputs": [
    {
     "ename": "TypeError",
     "evalue": "object of type 'BaseQuery' has no len()",
     "output_type": "error",
     "traceback": [
      "\u001b[1;31m---------------------------------------------------------------------------\u001b[0m",
      "\u001b[1;31mTypeError\u001b[0m                                 Traceback (most recent call last)",
      "\u001b[1;32mc:\\Users\\cleme\\Documents\\GitHub\\Manwhen\\notebook.ipynb Cell 14'\u001b[0m in \u001b[0;36m<cell line: 2>\u001b[1;34m()\u001b[0m\n\u001b[0;32m      <a href='vscode-notebook-cell:/c%3A/Users/cleme/Documents/GitHub/Manwhen/notebook.ipynb#ch0000013?line=0'>1</a>\u001b[0m abc \u001b[39m=\u001b[39m MangaChapter\u001b[39m.\u001b[39mquery\u001b[39m.\u001b[39mfilter(MangaChapter\u001b[39m.\u001b[39mchapter_number\u001b[39m<\u001b[39m\u001b[39m=\u001b[39m\u001b[39m'\u001b[39m\u001b[39m1000\u001b[39m\u001b[39m'\u001b[39m,MangaChapter\u001b[39m.\u001b[39mmanga_id\u001b[39m==\u001b[39m\u001b[39m'\u001b[39m\u001b[39m1\u001b[39m\u001b[39m'\u001b[39m,MangaChapter\u001b[39m.\u001b[39mchapter_viewed\u001b[39m==\u001b[39m\u001b[39mTrue\u001b[39;00m)\n\u001b[1;32m----> <a href='vscode-notebook-cell:/c%3A/Users/cleme/Documents/GitHub/Manwhen/notebook.ipynb#ch0000013?line=1'>2</a>\u001b[0m \u001b[39mlen\u001b[39;49m(abc)\n",
      "\u001b[1;31mTypeError\u001b[0m: object of type 'BaseQuery' has no len()"
     ]
    }
   ],
   "source": [
    "\n",
    "abc = MangaChapter.query.filter(MangaChapter.chapter_number<='1000',MangaChapter.manga_id=='1',MangaChapter.chapter_viewed==True)\n",
    "len(abc)"
   ]
  },
  {
   "cell_type": "code",
   "execution_count": 107,
   "metadata": {},
   "outputs": [
    {
     "ename": "IndentationError",
     "evalue": "expected an indented block after 'if' statement on line 8 (28157393.py, line 9)",
     "output_type": "error",
     "traceback": [
      "\u001b[1;36m  Input \u001b[1;32mIn [107]\u001b[1;36m\u001b[0m\n\u001b[1;33m    \u001b[0m\n\u001b[1;37m    ^\u001b[0m\n\u001b[1;31mIndentationError\u001b[0m\u001b[1;31m:\u001b[0m expected an indented block after 'if' statement on line 8\n"
     ]
    }
   ],
   "source": [
    "mangachapter = MangaChapter.query.all()\n",
    "manga = Manga.query.get(1)\n",
    "\n",
    "manga.manga_chapters\n",
    "\n",
    "\n",
    "for chapter in manga.manga_chapters :\n",
    "    if mangachapter[1040].chapter_viewed == True : \n",
    "        "
   ]
  },
  {
   "cell_type": "code",
   "execution_count": 110,
   "metadata": {},
   "outputs": [
    {
     "data": {
      "text/plain": [
       "False"
      ]
     },
     "execution_count": 110,
     "metadata": {},
     "output_type": "execute_result"
    }
   ],
   "source": []
  },
  {
   "cell_type": "code",
   "execution_count": 10,
   "metadata": {},
   "outputs": [
    {
     "data": {
      "text/plain": [
       "manga_chapter('Entrée en scène de Kawamatsu le Kappa','948.0000000000','https://www.scan-vf.net/one_piece/chapitre-948','True')"
      ]
     },
     "execution_count": 10,
     "metadata": {},
     "output_type": "execute_result"
    }
   ],
   "source": [
    "mangachapter = MangaChapter.query.get('100')\n",
    "mangachapter"
   ]
  },
  {
   "cell_type": "code",
   "execution_count": 115,
   "metadata": {},
   "outputs": [
    {
     "name": "stdout",
     "output_type": "stream",
     "text": [
      "<class 'int'>\n"
     ]
    }
   ],
   "source": [
    "manga = (Manga.query.get(1)).id\n",
    "print(type(manga))"
   ]
  },
  {
   "cell_type": "code",
   "execution_count": 119,
   "metadata": {},
   "outputs": [
    {
     "name": "stdout",
     "output_type": "stream",
     "text": [
      "1041\n"
     ]
    }
   ],
   "source": [
    "manga_chapter_view_clicked = int('1041')\n",
    "type(manga_chapter_view_clicked)\n",
    "print(manga_chapter_view_clicked)\n"
   ]
  },
  {
   "cell_type": "code",
   "execution_count": 121,
   "metadata": {},
   "outputs": [
    {
     "name": "stdout",
     "output_type": "stream",
     "text": [
      "False\n"
     ]
    }
   ],
   "source": [
    "manga_chapter_view_clicked = '1040'\n",
    "manga_id_current = '1'\n",
    "\n",
    "state_manga_chapter_view_clicked = (MangaChapter.query.filter(MangaChapter.chapter_number==manga_chapter_view_clicked,MangaChapter.manga_id=='1').first()).chapter_viewed\n",
    "print(state_manga_chapter_view_clicked)"
   ]
  },
  {
   "cell_type": "code",
   "execution_count": 123,
   "metadata": {},
   "outputs": [],
   "source": [
    "MangaChapter.query.filter(MangaChapter.chapter_number<=manga_chapter_view_clicked,MangaChapter.manga_id==manga_id_current,MangaChapter.chapter_viewed==False).update({MangaChapter.chapter_viewed: True},synchronize_session= False)\n",
    "db.session.commit()\n"
   ]
  },
  {
   "cell_type": "code",
   "execution_count": 30,
   "metadata": {},
   "outputs": [
    {
     "data": {
      "text/plain": [
       "1"
      ]
     },
     "execution_count": 30,
     "metadata": {},
     "output_type": "execute_result"
    }
   ],
   "source": [
    "#Je regarde la longueur des chap non lu dans la base\n",
    "indice_manga = '1' # '1' = One Piece\n",
    "\n",
    "len(MangaChapter.query.filter( MangaChapter.chapter_viewed == False , MangaChapter.manga_id== indice_manga).all())"
   ]
  },
  {
   "cell_type": "code",
   "execution_count": 126,
   "metadata": {},
   "outputs": [
    {
     "ename": "TypeError",
     "evalue": "list indices must be integers or slices, not float",
     "output_type": "error",
     "traceback": [
      "\u001b[1;31m---------------------------------------------------------------------------\u001b[0m",
      "\u001b[1;31mTypeError\u001b[0m                                 Traceback (most recent call last)",
      "\u001b[1;32mc:\\Users\\cleme\\Documents\\GitHub\\Manwhen\\notebook.ipynb Cell 20'\u001b[0m in \u001b[0;36m<cell line: 2>\u001b[1;34m()\u001b[0m\n\u001b[0;32m      <a href='vscode-notebook-cell:/c%3A/Users/cleme/Documents/GitHub/Manwhen/notebook.ipynb#ch0000023?line=0'>1</a>\u001b[0m mangachapter \u001b[39m=\u001b[39m MangaChapter\u001b[39m.\u001b[39mquery\u001b[39m.\u001b[39mall()\n\u001b[1;32m----> <a href='vscode-notebook-cell:/c%3A/Users/cleme/Documents/GitHub/Manwhen/notebook.ipynb#ch0000023?line=1'>2</a>\u001b[0m mangachapter[\u001b[39m1000.5\u001b[39;49m]\n",
      "\u001b[1;31mTypeError\u001b[0m: list indices must be integers or slices, not float"
     ]
    }
   ],
   "source": [
    "mangachapter = MangaChapter.query.all()\n",
    "mangachapter[1000.5]"
   ]
  },
  {
   "cell_type": "code",
   "execution_count": 33,
   "metadata": {},
   "outputs": [
    {
     "data": {
      "text/plain": [
       "6"
      ]
     },
     "execution_count": 33,
     "metadata": {},
     "output_type": "execute_result"
    }
   ],
   "source": [
    "mangas_list = Manga.query.all()\n",
    "len(mangas_list)"
   ]
  },
  {
   "cell_type": "code",
   "execution_count": null,
   "metadata": {},
   "outputs": [],
   "source": [
    "True_count_list = ['1','2','3','4','5']\n",
    "False_count_list = ['101','102','103','104','105']\n",
    "\n"
   ]
  },
  {
   "cell_type": "code",
   "execution_count": 12,
   "metadata": {},
   "outputs": [
    {
     "ename": "RuntimeError",
     "evalue": "No application found. Either work inside a view function or push an application context. See http://flask-sqlalchemy.pocoo.org/contexts/.",
     "output_type": "error",
     "traceback": [
      "\u001b[1;31m---------------------------------------------------------------------------\u001b[0m",
      "\u001b[1;31mKeyError\u001b[0m                                  Traceback (most recent call last)",
      "File \u001b[1;32mc:\\Users\\cleme\\Documents\\GitHub\\Manwhen\\venv\\lib\\site-packages\\sqlalchemy\\util\\_collections.py:1008\u001b[0m, in \u001b[0;36mScopedRegistry.__call__\u001b[1;34m(self)\u001b[0m\n\u001b[0;32m   <a href='file:///c%3A/Users/cleme/Documents/GitHub/Manwhen/venv/lib/site-packages/sqlalchemy/util/_collections.py?line=1006'>1007</a>\u001b[0m \u001b[39mtry\u001b[39;00m:\n\u001b[1;32m-> <a href='file:///c%3A/Users/cleme/Documents/GitHub/Manwhen/venv/lib/site-packages/sqlalchemy/util/_collections.py?line=1007'>1008</a>\u001b[0m     \u001b[39mreturn\u001b[39;00m \u001b[39mself\u001b[39;49m\u001b[39m.\u001b[39;49mregistry[key]\n\u001b[0;32m   <a href='file:///c%3A/Users/cleme/Documents/GitHub/Manwhen/venv/lib/site-packages/sqlalchemy/util/_collections.py?line=1008'>1009</a>\u001b[0m \u001b[39mexcept\u001b[39;00m \u001b[39mKeyError\u001b[39;00m:\n",
      "\u001b[1;31mKeyError\u001b[0m: <greenlet.greenlet object at 0x000001B9DDD23ED0 (otid=0x000001B9D95F13C0) current active started main>",
      "\nDuring handling of the above exception, another exception occurred:\n",
      "\u001b[1;31mRuntimeError\u001b[0m                              Traceback (most recent call last)",
      "\u001b[1;32mc:\\Users\\cleme\\Documents\\GitHub\\Manwhen\\manwhen_app\\notebook.ipynb Cell 35'\u001b[0m in \u001b[0;36m<cell line: 2>\u001b[1;34m()\u001b[0m\n\u001b[0;32m      <a href='vscode-notebook-cell:/c%3A/Users/cleme/Documents/GitHub/Manwhen/manwhen_app/notebook.ipynb#ch0000034?line=0'>1</a>\u001b[0m \u001b[39mfrom\u001b[39;00m \u001b[39mmodels\u001b[39;00m \u001b[39mimport\u001b[39;00m Manga\n\u001b[1;32m----> <a href='vscode-notebook-cell:/c%3A/Users/cleme/Documents/GitHub/Manwhen/manwhen_app/notebook.ipynb#ch0000034?line=1'>2</a>\u001b[0m mangas_list \u001b[39m=\u001b[39m Manga\u001b[39m.\u001b[39;49mquery\u001b[39m.\u001b[39mall()\n",
      "File \u001b[1;32mc:\\Users\\cleme\\Documents\\GitHub\\Manwhen\\venv\\lib\\site-packages\\flask_sqlalchemy\\__init__.py:552\u001b[0m, in \u001b[0;36m_QueryProperty.__get__\u001b[1;34m(self, obj, type)\u001b[0m\n\u001b[0;32m    <a href='file:///c%3A/Users/cleme/Documents/GitHub/Manwhen/venv/lib/site-packages/flask_sqlalchemy/__init__.py?line=549'>550</a>\u001b[0m     mapper \u001b[39m=\u001b[39m orm\u001b[39m.\u001b[39mclass_mapper(\u001b[39mtype\u001b[39m)\n\u001b[0;32m    <a href='file:///c%3A/Users/cleme/Documents/GitHub/Manwhen/venv/lib/site-packages/flask_sqlalchemy/__init__.py?line=550'>551</a>\u001b[0m     \u001b[39mif\u001b[39;00m mapper:\n\u001b[1;32m--> <a href='file:///c%3A/Users/cleme/Documents/GitHub/Manwhen/venv/lib/site-packages/flask_sqlalchemy/__init__.py?line=551'>552</a>\u001b[0m         \u001b[39mreturn\u001b[39;00m \u001b[39mtype\u001b[39m\u001b[39m.\u001b[39mquery_class(mapper, session\u001b[39m=\u001b[39m\u001b[39mself\u001b[39;49m\u001b[39m.\u001b[39;49msa\u001b[39m.\u001b[39;49msession())\n\u001b[0;32m    <a href='file:///c%3A/Users/cleme/Documents/GitHub/Manwhen/venv/lib/site-packages/flask_sqlalchemy/__init__.py?line=552'>553</a>\u001b[0m \u001b[39mexcept\u001b[39;00m UnmappedClassError:\n\u001b[0;32m    <a href='file:///c%3A/Users/cleme/Documents/GitHub/Manwhen/venv/lib/site-packages/flask_sqlalchemy/__init__.py?line=553'>554</a>\u001b[0m     \u001b[39mreturn\u001b[39;00m \u001b[39mNone\u001b[39;00m\n",
      "File \u001b[1;32mc:\\Users\\cleme\\Documents\\GitHub\\Manwhen\\venv\\lib\\site-packages\\sqlalchemy\\orm\\scoping.py:47\u001b[0m, in \u001b[0;36mScopedSessionMixin.__call__\u001b[1;34m(self, **kw)\u001b[0m\n\u001b[0;32m     <a href='file:///c%3A/Users/cleme/Documents/GitHub/Manwhen/venv/lib/site-packages/sqlalchemy/orm/scoping.py?line=44'>45</a>\u001b[0m         \u001b[39mself\u001b[39m\u001b[39m.\u001b[39mregistry\u001b[39m.\u001b[39mset(sess)\n\u001b[0;32m     <a href='file:///c%3A/Users/cleme/Documents/GitHub/Manwhen/venv/lib/site-packages/sqlalchemy/orm/scoping.py?line=45'>46</a>\u001b[0m \u001b[39melse\u001b[39;00m:\n\u001b[1;32m---> <a href='file:///c%3A/Users/cleme/Documents/GitHub/Manwhen/venv/lib/site-packages/sqlalchemy/orm/scoping.py?line=46'>47</a>\u001b[0m     sess \u001b[39m=\u001b[39m \u001b[39mself\u001b[39;49m\u001b[39m.\u001b[39;49mregistry()\n\u001b[0;32m     <a href='file:///c%3A/Users/cleme/Documents/GitHub/Manwhen/venv/lib/site-packages/sqlalchemy/orm/scoping.py?line=47'>48</a>\u001b[0m \u001b[39mif\u001b[39;00m \u001b[39mnot\u001b[39;00m \u001b[39mself\u001b[39m\u001b[39m.\u001b[39m_support_async \u001b[39mand\u001b[39;00m sess\u001b[39m.\u001b[39m_is_asyncio:\n\u001b[0;32m     <a href='file:///c%3A/Users/cleme/Documents/GitHub/Manwhen/venv/lib/site-packages/sqlalchemy/orm/scoping.py?line=48'>49</a>\u001b[0m     warn_deprecated(\n\u001b[0;32m     <a href='file:///c%3A/Users/cleme/Documents/GitHub/Manwhen/venv/lib/site-packages/sqlalchemy/orm/scoping.py?line=49'>50</a>\u001b[0m         \u001b[39m\"\u001b[39m\u001b[39mUsing `scoped_session` with asyncio is deprecated and \u001b[39m\u001b[39m\"\u001b[39m\n\u001b[0;32m     <a href='file:///c%3A/Users/cleme/Documents/GitHub/Manwhen/venv/lib/site-packages/sqlalchemy/orm/scoping.py?line=50'>51</a>\u001b[0m         \u001b[39m\"\u001b[39m\u001b[39mwill raise an error in a future version. \u001b[39m\u001b[39m\"\u001b[39m\n\u001b[0;32m     <a href='file:///c%3A/Users/cleme/Documents/GitHub/Manwhen/venv/lib/site-packages/sqlalchemy/orm/scoping.py?line=51'>52</a>\u001b[0m         \u001b[39m\"\u001b[39m\u001b[39mPlease use `async_scoped_session` instead.\u001b[39m\u001b[39m\"\u001b[39m,\n\u001b[0;32m     <a href='file:///c%3A/Users/cleme/Documents/GitHub/Manwhen/venv/lib/site-packages/sqlalchemy/orm/scoping.py?line=52'>53</a>\u001b[0m         \u001b[39m\"\u001b[39m\u001b[39m1.4.23\u001b[39m\u001b[39m\"\u001b[39m,\n\u001b[0;32m     <a href='file:///c%3A/Users/cleme/Documents/GitHub/Manwhen/venv/lib/site-packages/sqlalchemy/orm/scoping.py?line=53'>54</a>\u001b[0m     )\n",
      "File \u001b[1;32mc:\\Users\\cleme\\Documents\\GitHub\\Manwhen\\venv\\lib\\site-packages\\sqlalchemy\\util\\_collections.py:1010\u001b[0m, in \u001b[0;36mScopedRegistry.__call__\u001b[1;34m(self)\u001b[0m\n\u001b[0;32m   <a href='file:///c%3A/Users/cleme/Documents/GitHub/Manwhen/venv/lib/site-packages/sqlalchemy/util/_collections.py?line=1007'>1008</a>\u001b[0m     \u001b[39mreturn\u001b[39;00m \u001b[39mself\u001b[39m\u001b[39m.\u001b[39mregistry[key]\n\u001b[0;32m   <a href='file:///c%3A/Users/cleme/Documents/GitHub/Manwhen/venv/lib/site-packages/sqlalchemy/util/_collections.py?line=1008'>1009</a>\u001b[0m \u001b[39mexcept\u001b[39;00m \u001b[39mKeyError\u001b[39;00m:\n\u001b[1;32m-> <a href='file:///c%3A/Users/cleme/Documents/GitHub/Manwhen/venv/lib/site-packages/sqlalchemy/util/_collections.py?line=1009'>1010</a>\u001b[0m     \u001b[39mreturn\u001b[39;00m \u001b[39mself\u001b[39m\u001b[39m.\u001b[39mregistry\u001b[39m.\u001b[39msetdefault(key, \u001b[39mself\u001b[39;49m\u001b[39m.\u001b[39;49mcreatefunc())\n",
      "File \u001b[1;32mc:\\Users\\cleme\\Documents\\GitHub\\Manwhen\\venv\\lib\\site-packages\\sqlalchemy\\orm\\session.py:4205\u001b[0m, in \u001b[0;36msessionmaker.__call__\u001b[1;34m(self, **local_kw)\u001b[0m\n\u001b[0;32m   <a href='file:///c%3A/Users/cleme/Documents/GitHub/Manwhen/venv/lib/site-packages/sqlalchemy/orm/session.py?line=4202'>4203</a>\u001b[0m     \u001b[39melse\u001b[39;00m:\n\u001b[0;32m   <a href='file:///c%3A/Users/cleme/Documents/GitHub/Manwhen/venv/lib/site-packages/sqlalchemy/orm/session.py?line=4203'>4204</a>\u001b[0m         local_kw\u001b[39m.\u001b[39msetdefault(k, v)\n\u001b[1;32m-> <a href='file:///c%3A/Users/cleme/Documents/GitHub/Manwhen/venv/lib/site-packages/sqlalchemy/orm/session.py?line=4204'>4205</a>\u001b[0m \u001b[39mreturn\u001b[39;00m \u001b[39mself\u001b[39m\u001b[39m.\u001b[39mclass_(\u001b[39m*\u001b[39m\u001b[39m*\u001b[39mlocal_kw)\n",
      "File \u001b[1;32mc:\\Users\\cleme\\Documents\\GitHub\\Manwhen\\venv\\lib\\site-packages\\flask_sqlalchemy\\__init__.py:174\u001b[0m, in \u001b[0;36mSignallingSession.__init__\u001b[1;34m(self, db, autocommit, autoflush, **options)\u001b[0m\n\u001b[0;32m    <a href='file:///c%3A/Users/cleme/Documents/GitHub/Manwhen/venv/lib/site-packages/flask_sqlalchemy/__init__.py?line=171'>172</a>\u001b[0m \u001b[39mdef\u001b[39;00m \u001b[39m__init__\u001b[39m(\u001b[39mself\u001b[39m, db, autocommit\u001b[39m=\u001b[39m\u001b[39mFalse\u001b[39;00m, autoflush\u001b[39m=\u001b[39m\u001b[39mTrue\u001b[39;00m, \u001b[39m*\u001b[39m\u001b[39m*\u001b[39moptions):\n\u001b[0;32m    <a href='file:///c%3A/Users/cleme/Documents/GitHub/Manwhen/venv/lib/site-packages/flask_sqlalchemy/__init__.py?line=172'>173</a>\u001b[0m     \u001b[39m#: The application that this session belongs to.\u001b[39;00m\n\u001b[1;32m--> <a href='file:///c%3A/Users/cleme/Documents/GitHub/Manwhen/venv/lib/site-packages/flask_sqlalchemy/__init__.py?line=173'>174</a>\u001b[0m     \u001b[39mself\u001b[39m\u001b[39m.\u001b[39mapp \u001b[39m=\u001b[39m app \u001b[39m=\u001b[39m db\u001b[39m.\u001b[39;49mget_app()\n\u001b[0;32m    <a href='file:///c%3A/Users/cleme/Documents/GitHub/Manwhen/venv/lib/site-packages/flask_sqlalchemy/__init__.py?line=174'>175</a>\u001b[0m     track_modifications \u001b[39m=\u001b[39m app\u001b[39m.\u001b[39mconfig[\u001b[39m'\u001b[39m\u001b[39mSQLALCHEMY_TRACK_MODIFICATIONS\u001b[39m\u001b[39m'\u001b[39m]\n\u001b[0;32m    <a href='file:///c%3A/Users/cleme/Documents/GitHub/Manwhen/venv/lib/site-packages/flask_sqlalchemy/__init__.py?line=175'>176</a>\u001b[0m     bind \u001b[39m=\u001b[39m options\u001b[39m.\u001b[39mpop(\u001b[39m'\u001b[39m\u001b[39mbind\u001b[39m\u001b[39m'\u001b[39m, \u001b[39mNone\u001b[39;00m) \u001b[39mor\u001b[39;00m db\u001b[39m.\u001b[39mengine\n",
      "File \u001b[1;32mc:\\Users\\cleme\\Documents\\GitHub\\Manwhen\\venv\\lib\\site-packages\\flask_sqlalchemy\\__init__.py:1042\u001b[0m, in \u001b[0;36mSQLAlchemy.get_app\u001b[1;34m(self, reference_app)\u001b[0m\n\u001b[0;32m   <a href='file:///c%3A/Users/cleme/Documents/GitHub/Manwhen/venv/lib/site-packages/flask_sqlalchemy/__init__.py?line=1038'>1039</a>\u001b[0m \u001b[39mif\u001b[39;00m \u001b[39mself\u001b[39m\u001b[39m.\u001b[39mapp \u001b[39mis\u001b[39;00m \u001b[39mnot\u001b[39;00m \u001b[39mNone\u001b[39;00m:\n\u001b[0;32m   <a href='file:///c%3A/Users/cleme/Documents/GitHub/Manwhen/venv/lib/site-packages/flask_sqlalchemy/__init__.py?line=1039'>1040</a>\u001b[0m     \u001b[39mreturn\u001b[39;00m \u001b[39mself\u001b[39m\u001b[39m.\u001b[39mapp\n\u001b[1;32m-> <a href='file:///c%3A/Users/cleme/Documents/GitHub/Manwhen/venv/lib/site-packages/flask_sqlalchemy/__init__.py?line=1041'>1042</a>\u001b[0m \u001b[39mraise\u001b[39;00m \u001b[39mRuntimeError\u001b[39;00m(\n\u001b[0;32m   <a href='file:///c%3A/Users/cleme/Documents/GitHub/Manwhen/venv/lib/site-packages/flask_sqlalchemy/__init__.py?line=1042'>1043</a>\u001b[0m     \u001b[39m'\u001b[39m\u001b[39mNo application found. Either work inside a view function or push\u001b[39m\u001b[39m'\u001b[39m\n\u001b[0;32m   <a href='file:///c%3A/Users/cleme/Documents/GitHub/Manwhen/venv/lib/site-packages/flask_sqlalchemy/__init__.py?line=1043'>1044</a>\u001b[0m     \u001b[39m'\u001b[39m\u001b[39m an application context. See\u001b[39m\u001b[39m'\u001b[39m\n\u001b[0;32m   <a href='file:///c%3A/Users/cleme/Documents/GitHub/Manwhen/venv/lib/site-packages/flask_sqlalchemy/__init__.py?line=1044'>1045</a>\u001b[0m     \u001b[39m'\u001b[39m\u001b[39m http://flask-sqlalchemy.pocoo.org/contexts/.\u001b[39m\u001b[39m'\u001b[39m\n\u001b[0;32m   <a href='file:///c%3A/Users/cleme/Documents/GitHub/Manwhen/venv/lib/site-packages/flask_sqlalchemy/__init__.py?line=1045'>1046</a>\u001b[0m )\n",
      "\u001b[1;31mRuntimeError\u001b[0m: No application found. Either work inside a view function or push an application context. See http://flask-sqlalchemy.pocoo.org/contexts/."
     ]
    }
   ],
   "source": [
    "mangas_list = Manga.query.all()"
   ]
  },
  {
   "cell_type": "code",
   "execution_count": null,
   "metadata": {},
   "outputs": [],
   "source": []
  }
 ],
 "metadata": {
  "interpreter": {
   "hash": "cb453471b4afeaad891a42cb368dae45484435955adc67e519da5976fa46990a"
  },
  "kernelspec": {
   "display_name": "Python 3.10.2 ('venv': venv)",
   "language": "python",
   "name": "python3"
  },
  "language_info": {
   "codemirror_mode": {
    "name": "ipython",
    "version": 3
   },
   "file_extension": ".py",
   "mimetype": "text/x-python",
   "name": "python",
   "nbconvert_exporter": "python",
   "pygments_lexer": "ipython3",
   "version": "3.10.2"
  },
  "orig_nbformat": 4
 },
 "nbformat": 4,
 "nbformat_minor": 2
}
